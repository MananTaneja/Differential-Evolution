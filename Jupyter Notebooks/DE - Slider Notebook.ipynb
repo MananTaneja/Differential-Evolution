{
 "cells": [
  {
   "cell_type": "markdown",
   "metadata": {},
   "source": [
    "# Final Year Project Phase 2 - Review 1\n",
    "# Interactive Differential Evolution"
   ]
  },
  {
   "cell_type": "markdown",
   "metadata": {},
   "source": [
    "### Required Packages"
   ]
  },
  {
   "cell_type": "code",
   "execution_count": 1,
   "metadata": {},
   "outputs": [],
   "source": [
    "from __future__ import print_function\n",
    "\n",
    "import numpy as np\n",
    "import matplotlib.pyplot as plt\n",
    "\n",
    "from ipywidgets import interact, interactive, fixed, interact_manual\n",
    "import ipywidgets as widgets"
   ]
  },
  {
   "cell_type": "markdown",
   "metadata": {},
   "source": [
    "### Differential Evolution Overview\n",
    "\n",
    "* DE is about finding the minimum of a function (black-box optimization/derivative-free optimization)"
   ]
  },
  {
   "cell_type": "code",
   "execution_count": 2,
   "metadata": {},
   "outputs": [],
   "source": [
    "#Differential Evolution Function\n",
    "def de(fobj, bounds, mut=0.8, crossp=0.7, popsize=20, its=1000):\n",
    "    dimensions = len(bounds)\n",
    "    pop = np.random.rand(popsize, dimensions)\n",
    "    min_b, max_b = np.asarray(bounds).T\n",
    "    diff = np.fabs(min_b - max_b)\n",
    "    pop_denorm = min_b + pop * diff\n",
    "    fitness = np.asarray([fobj(ind) for ind in pop_denorm])\n",
    "    best_idx = np.argmin(fitness)\n",
    "    best = pop_denorm[best_idx]\n",
    "    for i in range(its):\n",
    "        for j in range(popsize):\n",
    "            idxs = [idx for idx in range(popsize) if idx != j]\n",
    "            a, b, c = pop[np.random.choice(idxs, 3, replace = False)]\n",
    "            mutant = np.clip(a + mut * (b - c), 0, 1)\n",
    "            cross_points = np.random.rand(dimensions) < crossp\n",
    "            if not np.any(cross_points):\n",
    "                cross_points[np.random.randint(0, dimensions)] = True\n",
    "            trial = np.where(cross_points, mutant, pop[j])\n",
    "            trial_denorm = min_b + trial * diff\n",
    "            f = fobj(trial_denorm)\n",
    "            if f < fitness[j]:\n",
    "                fitness[j] = f\n",
    "                pop[j] = trial\n",
    "                if f < fitness[best_idx]:\n",
    "                    best_idx = j\n",
    "                    best = trial_denorm\n",
    "        yield best, fitness[best_idx]"
   ]
  },
  {
   "cell_type": "markdown",
   "metadata": {},
   "source": [
    "### Parameters in Differential Evolution Algorithm\n",
    "* **fobj** - function that needs to be optimized. It can defined using def or lambda.\n",
    "* **bounds** - a list with the lower and upper bound for each parameter of the function\n",
    "* **mut**\n",
    "* **crossp**\n",
    "* **popsize**\n",
    "* **its** - Number of iterations"
   ]
  },
  {
   "cell_type": "code",
   "execution_count": 3,
   "metadata": {},
   "outputs": [
    {
     "name": "stdout",
     "output_type": "stream",
     "text": [
      "(array([6.29769503]), array([39.66096264])) (array([0.7501843]), array([0.56277649])) (array([0.71314725]), array([0.50857899])) (array([0.71314725]), array([0.50857899])) (array([-0.59527251]), array([0.35434936]))\n",
      "\n",
      "\n",
      "(array([0.]), array([0.]))\n"
     ]
    }
   ],
   "source": [
    "#Example TestCase: square function \n",
    "it1=list(de(lambda x: x**2, bounds=[(-100, 100)], its=5))\n",
    "print(*it1)\n",
    "it2=list(de(lambda x: x**2, bounds=[(-100, 100)], its=500))\n",
    "print(\"\\n\")\n",
    "print(it2[-1])"
   ]
  },
  {
   "cell_type": "code",
   "execution_count": 4,
   "metadata": {},
   "outputs": [
    {
     "name": "stdout",
     "output_type": "stream",
     "text": [
      "DE for sum of 32 numbers between -30 to 30:\n",
      "\n",
      "Parameter Values: -100.0 -100.0 -100.0 -100.0 -100.0 -100.0 -100.0 -100.0 -100.0 -100.0 -100.0 -100.0 -100.0 -100.0 -100.0 -100.0 -100.0 -100.0 -100.0 -100.0 -100.0 -100.0 -100.0 -100.0 -100.0 -100.0 -100.0 -100.0 -100.0 -100.0 -100.0 -100.0\n",
      "Minimum Sum: -3200.0\n"
     ]
    },
    {
     "data": {
      "image/png": "[encoded data removed]",
      "text/plain": [
       "<Figure size 432x288 with 1 Axes>"
      ]
     },
     "metadata": {
      "needs_background": "light"
     },
     "output_type": "display_data"
    }
   ],
   "source": [
    "#Example TestCase: sum of 32 numbers\n",
    "\n",
    "#Applying DE\n",
    "it1=list(de(lambda x:sum(x), bounds=[(-100,100)]*32, its=3000))\n",
    "print(\"DE for sum of 32 numbers between -30 to 30:\\n\")\n",
    "print(\"Parameter Values:\",*(it1[-1][0]))\n",
    "print(\"Minimum Sum:\",it1[-1][1])\n",
    "\n",
    "#Plotting the results\n",
    "x, f=zip(*it1)\n",
    "plt.plot(f,color='#605770')\n",
    "plt.xlabel('Iteration')\n",
    "plt.ylabel('f(x)')\n",
    "plt.show()"
   ]
  },
  {
   "cell_type": "markdown",
   "metadata": {},
   "source": [
    "### Interactive Differential Evolution Demo"
   ]
  },
  {
   "cell_type": "code",
   "execution_count": 5,
   "metadata": {},
   "outputs": [
    {
     "name": "stdout",
     "output_type": "stream",
     "text": [
      "Minimizing sum of 32 numbers\n"
     ]
    },
    {
     "data": {
      "application/vnd.jupyter.widget-view+json": {
       "model_id": "7500e46681a1404db03f34c325ab081d",
       "version_major": 2,
       "version_minor": 0
      },
      "text/plain": [
       "interactive(children=(IntSlider(value=500, description='iterations', max=1000), FloatSlider(value=0.5, descrip…"
      ]
     },
     "metadata": {},
     "output_type": "display_data"
    },
    {
     "data": {
      "text/plain": [
       "<function __main__.algo(iterations, mut, crossp, popsize, bounds)>"
      ]
     },
     "execution_count": 5,
     "metadata": {},
     "output_type": "execute_result"
    }
   ],
   "source": [
    "print(\"Minimizing sum of 32 numbers\")\n",
    "def algo(iterations,mut,crossp,popsize,bounds):\n",
    "    it1=list(de(lambda x:sum(x), bounds=[(-100,1)]*32, mut=mut, crossp=crossp, popsize=int(popsize),its=iterations))\n",
    "    return it1[-1]\n",
    "interact(algo,iterations=(0,1000),mut=(0.0,1.0),crossp=(0.0,1.0),popsize=(0,100),bounds=\"\")"
   ]
  },
  {
   "cell_type": "code",
   "execution_count": null,
   "metadata": {},
   "outputs": [],
   "source": []
  }
 ],
 "metadata": {
  "kernelspec": {
   "display_name": "Python 3",
   "language": "python",
   "name": "python3"
  },
  "language_info": {
   "codemirror_mode": {
    "name": "ipython",
    "version": 3
   },
   "file_extension": ".py",
   "mimetype": "text/x-python",
   "name": "python",
   "nbconvert_exporter": "python",
   "pygments_lexer": "ipython3",
   "version": "3.7.4"
  }
 },
 "nbformat": 4,
 "nbformat_minor": 2
}
